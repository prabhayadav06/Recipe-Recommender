{
 "cells": [
  {
   "cell_type": "code",
   "execution_count": 4,
   "metadata": {},
   "outputs": [],
   "source": [
    "import pandas as pd\n",
    "import numpy as np\n",
    "import matplotlib.pyplot as plt\n",
    "import seaborn as sns\n"
   ]
  },
  {
   "cell_type": "code",
   "execution_count": 5,
   "metadata": {},
   "outputs": [
    {
     "data": {
      "text/html": [
       "<div>\n",
       "<style scoped>\n",
       "    .dataframe tbody tr th:only-of-type {\n",
       "        vertical-align: middle;\n",
       "    }\n",
       "\n",
       "    .dataframe tbody tr th {\n",
       "        vertical-align: top;\n",
       "    }\n",
       "\n",
       "    .dataframe thead th {\n",
       "        text-align: right;\n",
       "    }\n",
       "</style>\n",
       "<table border=\"1\" class=\"dataframe\">\n",
       "  <thead>\n",
       "    <tr style=\"text-align: right;\">\n",
       "      <th></th>\n",
       "      <th>id</th>\n",
       "      <th>cuisine</th>\n",
       "      <th>ingredients</th>\n",
       "    </tr>\n",
       "  </thead>\n",
       "  <tbody>\n",
       "    <tr>\n",
       "      <th>0</th>\n",
       "      <td>10259</td>\n",
       "      <td>greek</td>\n",
       "      <td>[romaine lettuce, black olives, grape tomatoes...</td>\n",
       "    </tr>\n",
       "    <tr>\n",
       "      <th>1</th>\n",
       "      <td>25693</td>\n",
       "      <td>southern_us</td>\n",
       "      <td>[plain flour, ground pepper, salt, tomatoes, g...</td>\n",
       "    </tr>\n",
       "    <tr>\n",
       "      <th>2</th>\n",
       "      <td>20130</td>\n",
       "      <td>filipino</td>\n",
       "      <td>[eggs, pepper, salt, mayonaise, cooking oil, g...</td>\n",
       "    </tr>\n",
       "    <tr>\n",
       "      <th>3</th>\n",
       "      <td>22213</td>\n",
       "      <td>indian</td>\n",
       "      <td>[water, vegetable oil, wheat, salt]</td>\n",
       "    </tr>\n",
       "    <tr>\n",
       "      <th>4</th>\n",
       "      <td>13162</td>\n",
       "      <td>indian</td>\n",
       "      <td>[black pepper, shallots, cornflour, cayenne pe...</td>\n",
       "    </tr>\n",
       "  </tbody>\n",
       "</table>\n",
       "</div>"
      ],
      "text/plain": [
       "      id      cuisine                                        ingredients\n",
       "0  10259        greek  [romaine lettuce, black olives, grape tomatoes...\n",
       "1  25693  southern_us  [plain flour, ground pepper, salt, tomatoes, g...\n",
       "2  20130     filipino  [eggs, pepper, salt, mayonaise, cooking oil, g...\n",
       "3  22213       indian                [water, vegetable oil, wheat, salt]\n",
       "4  13162       indian  [black pepper, shallots, cornflour, cayenne pe..."
      ]
     },
     "execution_count": 5,
     "metadata": {},
     "output_type": "execute_result"
    }
   ],
   "source": [
    "# Loading the dataset\n",
    "data = pd.read_json(\"C:/Users/PRABHA/OneDrive/Documents/recipe-recommender/train.json\")\n",
    "data.head()"
   ]
  },
  {
   "cell_type": "code",
   "execution_count": 6,
   "metadata": {},
   "outputs": [
    {
     "name": "stdout",
     "output_type": "stream",
     "text": [
      "Dataset Info:\n",
      "<class 'pandas.core.frame.DataFrame'>\n",
      "RangeIndex: 39774 entries, 0 to 39773\n",
      "Data columns (total 3 columns):\n",
      " #   Column       Non-Null Count  Dtype \n",
      "---  ------       --------------  ----- \n",
      " 0   id           39774 non-null  int64 \n",
      " 1   cuisine      39774 non-null  object\n",
      " 2   ingredients  39774 non-null  object\n",
      "dtypes: int64(1), object(2)\n",
      "memory usage: 932.3+ KB\n",
      "None\n"
     ]
    }
   ],
   "source": [
    "print(\"Dataset Info:\")\n",
    "print(data.info())"
   ]
  },
  {
   "cell_type": "code",
   "execution_count": 7,
   "metadata": {},
   "outputs": [
    {
     "name": "stdout",
     "output_type": "stream",
     "text": [
      "Index(['id', 'cuisine', 'ingredients'], dtype='object')\n"
     ]
    }
   ],
   "source": [
    "print(data.columns)"
   ]
  },
  {
   "cell_type": "code",
   "execution_count": 8,
   "metadata": {},
   "outputs": [
    {
     "name": "stdout",
     "output_type": "stream",
     "text": [
      "Missing Values:\n",
      "id             0\n",
      "cuisine        0\n",
      "ingredients    0\n",
      "dtype: int64\n"
     ]
    }
   ],
   "source": [
    "#checking for missing values \n",
    "missing_values = data.isnull().sum()\n",
    "print(\"Missing Values:\")\n",
    "print(missing_values)"
   ]
  },
  {
   "cell_type": "code",
   "execution_count": 9,
   "metadata": {},
   "outputs": [
    {
     "name": "stdout",
     "output_type": "stream",
     "text": [
      "0    [romaine lettuce, black olives, grape tomatoes...\n",
      "1    [plain flour, ground pepper, salt, tomatoes, g...\n",
      "2    [eggs, pepper, salt, mayonaise, cooking oil, g...\n",
      "3                  [water, vegetable oil, wheat, salt]\n",
      "4    [black pepper, shallots, cornflour, cayenne pe...\n",
      "Name: ingredients, dtype: object\n"
     ]
    }
   ],
   "source": [
    "#standardizing the ingredients for smoother functioning \n",
    "data[\"ingredients\"] = data[\"ingredients\"].apply(lambda x: [i.lower().strip() for i in x])\n",
    "print(data[\"ingredients\"].head())\n"
   ]
  },
  {
   "cell_type": "code",
   "execution_count": 10,
   "metadata": {},
   "outputs": [],
   "source": [
    "import tkinter as tk\n",
    "from tkinter import messagebox\n",
    "import requests"
   ]
  },
  {
   "cell_type": "code",
   "execution_count": 11,
   "metadata": {},
   "outputs": [],
   "source": [
    "# Constants\n",
    "API_KEY = '30513744673749ee8167cef8d3faab23'\n",
    "BASE_URL = 'https://api.spoonacular.com/recipes/'"
   ]
  },
  {
   "cell_type": "code",
   "execution_count": 12,
   "metadata": {},
   "outputs": [],
   "source": [
    "# Function to fetch recipes by ingredients\n",
    "def fetch_recipes():\n",
    "    user_ingredients = entry_ingredients.get()\n",
    "    if not user_ingredients.strip():\n",
    "        messagebox.showerror(\"Input Error\", \"Please enter some ingredients.\")\n",
    "        return\n",
    "\n",
    "    # API call to fetch recipes\n",
    "    url = f\"{BASE_URL}findByIngredients?apiKey={API_KEY}\"\n",
    "    params = {\n",
    "        \"ingredients\": user_ingredients,\n",
    "        \"number\": 5,  # Fetch top 5 recipes\n",
    "        \"ranking\": 2\n",
    "    }\n",
    "    response = requests.get(url, params=params)\n",
    "    if response.status_code == 200:\n",
    "        recipes = response.json()\n",
    "        display_recipes(recipes)\n",
    "    else:\n",
    "        messagebox.showerror(\"API Error\", f\"Failed to fetch recipes. Error: {response.status_code}\")"
   ]
  },
  {
   "cell_type": "code",
   "execution_count": 13,
   "metadata": {},
   "outputs": [],
   "source": [
    "# Function to display recipe recommendations\n",
    "def display_recipes(recipes):\n",
    "    recipe_window = tk.Toplevel(root)\n",
    "    recipe_window.title(\"Recipe Recommendations\")\n",
    "\n",
    "    tk.Label(recipe_window, text=\"Here are your recommended recipes:\", font=(\"Helvetica\", 12, \"bold\")).pack(pady=10)\n",
    "\n",
    "    for idx, recipe in enumerate(recipes):\n",
    "        recipe_text = f\"{idx + 1}. {recipe['title']} (Uses {recipe['usedIngredientCount']} ingredients, {recipe['missedIngredientCount']} missing)\"\n",
    "        tk.Label(recipe_window, text=recipe_text, wraplength=400, justify=\"left\").pack(anchor=\"w\", padx=10)\n",
    "\n",
    "    tk.Label(recipe_window, text=\"\\nEnter the recipe number for details:\", font=(\"Helvetica\", 10)).pack()\n",
    "    recipe_choice = tk.Entry(recipe_window)\n",
    "    recipe_choice.pack()\n",
    "\n",
    "    def get_recipe_details():\n",
    "        choice = recipe_choice.get()\n",
    "        if not choice.isdigit() or int(choice) < 1 or int(choice) > len(recipes):\n",
    "            messagebox.showerror(\"Input Error\", \"Please select a valid recipe number.\")\n",
    "            return\n",
    "        selected_recipe_id = recipes[int(choice) - 1]['id']\n",
    "        fetch_recipe_details(selected_recipe_id)\n",
    "\n",
    "    tk.Button(recipe_window, text=\"Get Recipe Details\", command=get_recipe_details).pack(pady=10)"
   ]
  },
  {
   "cell_type": "code",
   "execution_count": 14,
   "metadata": {},
   "outputs": [],
   "source": [
    "# Function to fetch full recipe details\n",
    "def fetch_recipe_details(recipe_id):\n",
    "    url = f\"{BASE_URL}{recipe_id}/information?apiKey={API_KEY}\"\n",
    "    response = requests.get(url)\n",
    "    if response.status_code == 200:\n",
    "        data = response.json()\n",
    "        display_recipe_details(data)\n",
    "    else:\n",
    "        messagebox.showerror(\"API Error\", f\"Failed to fetch recipe details. Error: {response.status_code}\")"
   ]
  },
  {
   "cell_type": "code",
   "execution_count": 15,
   "metadata": {},
   "outputs": [],
   "source": [
    "# Function to display full recipe details\n",
    "def display_recipe_details(data):\n",
    "    details_window = tk.Toplevel(root)\n",
    "    details_window.title(data['title'])\n",
    "\n",
    "    # Display recipe title\n",
    "    tk.Label(details_window, text=data['title'], font=(\"Helvetica\", 16, \"bold\")).pack(pady=10)\n",
    "\n",
    "    # Display prep time and servings\n",
    "    tk.Label(details_window, text=f\"Prep Time: {data.get('readyInMinutes', 'N/A')} minutes\").pack()\n",
    "    tk.Label(details_window, text=f\"Servings: {data.get('servings', 'N/A')}\").pack()\n",
    "\n",
    "    # Display ingredients\n",
    "    tk.Label(details_window, text=\"\\nIngredients:\", font=(\"Helvetica\", 12, \"bold\")).pack(anchor=\"w\", padx=10)\n",
    "    for ingredient in data.get('extendedIngredients', []):\n",
    "        tk.Label(details_window, text=f\"- {ingredient['name'].capitalize()}\", wraplength=400, justify=\"left\").pack(anchor=\"w\", padx=20)\n",
    "\n",
    "    # Display instructions\n",
    "    tk.Label(details_window, text=\"\\nInstructions:\", font=(\"Helvetica\", 12, \"bold\")).pack(anchor=\"w\", padx=10)\n",
    "    instructions = data.get('instructions', \"No instructions available.\")\n",
    "    tk.Label(details_window, text=instructions, wraplength=400, justify=\"left\").pack(anchor=\"w\", padx=20)\n",
    "\n"
   ]
  },
  {
   "cell_type": "code",
   "execution_count": 16,
   "metadata": {},
   "outputs": [
    {
     "data": {
      "text/plain": [
       "''"
      ]
     },
     "execution_count": 16,
     "metadata": {},
     "output_type": "execute_result"
    }
   ],
   "source": [
    "# Main GUI\n",
    "root = tk.Tk()\n",
    "root.title(\"Recipe Recommendation System\")\n",
    "root.geometry(\"500x400\")"
   ]
  },
  {
   "cell_type": "code",
   "execution_count": 17,
   "metadata": {},
   "outputs": [],
   "source": [
    "# UI Elements\n",
    "tk.Label(root, text=\"Welcome to the Recipe Recommendation System!\", font=(\"Helvetica\", 14, \"bold\")).pack(pady=20)\n",
    "tk.Label(root, text=\"Enter your available ingredients (comma-separated):\", font=(\"Helvetica\", 10)).pack(pady=10)\n",
    "entry_ingredients = tk.Entry(root, width=50)\n",
    "entry_ingredients.pack()\n",
    "\n",
    "tk.Button(root, text=\"Find Recipes\", command=fetch_recipes).pack(pady=20)"
   ]
  },
  {
   "cell_type": "code",
   "execution_count": 18,
   "metadata": {},
   "outputs": [],
   "source": [
    "# Start the main loop\n",
    "root.mainloop()"
   ]
  }
 ],
 "metadata": {
  "kernelspec": {
   "display_name": "base",
   "language": "python",
   "name": "python3"
  },
  "language_info": {
   "codemirror_mode": {
    "name": "ipython",
    "version": 3
   },
   "file_extension": ".py",
   "mimetype": "text/x-python",
   "name": "python",
   "nbconvert_exporter": "python",
   "pygments_lexer": "ipython3",
   "version": "3.12.4"
  }
 },
 "nbformat": 4,
 "nbformat_minor": 2
}
